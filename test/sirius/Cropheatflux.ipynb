{
 "cells": [
  {
   "cell_type": "markdown",
   "id": "1531dcaf",
   "metadata": {},
   "source": [
    "# Automatic generation of Notebook using PyCropML\n",
    "    This notebook implements a crop model."
   ]
  },
  {
   "cell_type": "markdown",
   "id": "56342b69",
   "metadata": {},
   "source": [
    "### Model Cropheatflux"
   ]
  }
 ],
 "metadata": {},
 "nbformat": 4,
 "nbformat_minor": 5
}
