{
 "cells": [
  {
   "cell_type": "markdown",
   "id": "e35a8ba4",
   "metadata": {},
   "source": [
    "# Automatic generation of Notebook using PyCropML\n",
    "    This notebook implements a crop model."
   ]
  },
  {
   "cell_type": "markdown",
   "id": "60ccc4b0",
   "metadata": {},
   "source": [
    "### Model Diffusionlimitedevaporation"
   ]
  }
 ],
 "metadata": {},
 "nbformat": 4,
 "nbformat_minor": 5
}
