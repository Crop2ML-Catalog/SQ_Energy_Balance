{
 "cells": [
  {
   "cell_type": "markdown",
   "id": "1ac3020f",
   "metadata": {},
   "source": [
    "# Automatic generation of Notebook using PyCropML\n",
    "    This notebook implements a crop model."
   ]
  },
  {
   "cell_type": "markdown",
   "id": "3847652a",
   "metadata": {},
   "source": [
    "### Model Conductance"
   ]
  },
  {
   "cell_type": "code",
   "execution_count": null,
   "id": "dc141009",
   "metadata": {},
   "outputs": [],
   "source": [
    "source(\"../../src/r/SQ_Energy_Balance/Conductance.r\")\n",
    "library(assertthat)\n"
   ]
  },
  {
   "cell_type": "code",
   "execution_count": null,
   "id": "6f6a8c3a",
   "metadata": {},
   "outputs": [],
   "source": [
    "\n",
    "\n",
    "test_test1<-function(){\n",
    "    params= model_conductance(\n",
    "        d = 0.67,\n",
    "        zh = 0.013,\n",
    "        zm = 0.13,\n",
    "        wind = 124000,\n",
    "        plantHeight = 0\n",
    "        )\n",
    "    conductance_estimated = params$conductance\n",
    "    conductance_computed = 598.685\n",
    "    assert_that(all.equal(conductance_estimated, conductance_computed, scale=1, tol=0.3)==TRUE)\n",
    "}\n",
    "test_test1()"
   ]
  }
 ],
 "metadata": {},
 "nbformat": 4,
 "nbformat_minor": 5
}
