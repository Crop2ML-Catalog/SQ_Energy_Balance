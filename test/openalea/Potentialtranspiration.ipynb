{
 "cells": [
  {
   "cell_type": "markdown",
   "id": "6b4aac62",
   "metadata": {},
   "source": [
    "# Automatic generation of Notebook using PyCropML\n",
    "    This notebook implements a crop model."
   ]
  },
  {
   "cell_type": "markdown",
   "id": "85237284",
   "metadata": {},
   "source": [
    "### Model Potentialtranspiration"
   ]
  }
 ],
 "metadata": {},
 "nbformat": 4,
 "nbformat_minor": 5
}
