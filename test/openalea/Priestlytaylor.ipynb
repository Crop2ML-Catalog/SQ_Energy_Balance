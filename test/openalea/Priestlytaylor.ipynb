{
 "cells": [
  {
   "cell_type": "markdown",
   "id": "e0e5fb5a",
   "metadata": {},
   "source": [
    "# Automatic generation of Notebook using PyCropML\n",
    "    This notebook implements a crop model."
   ]
  },
  {
   "cell_type": "markdown",
   "id": "d953c1c0",
   "metadata": {},
   "source": [
    "### Model Priestlytaylor"
   ]
  }
 ],
 "metadata": {},
 "nbformat": 4,
 "nbformat_minor": 5
}
