{
 "cells": [
  {
   "cell_type": "markdown",
   "id": "fbbed73c",
   "metadata": {},
   "source": [
    "# Automatic generation of Notebook using PyCropML\n",
    "    This notebook implements a crop model."
   ]
  },
  {
   "cell_type": "markdown",
   "id": "220c90b2",
   "metadata": {},
   "source": [
    "### Model Canopytemperature"
   ]
  },
  {
   "cell_type": "code",
   "execution_count": null,
   "id": "3afba69a",
   "metadata": {},
   "outputs": [],
   "source": [
    "import numpy\n",
    "from datetime import datetime\n",
    "from array import array\n",
    "import sys\n",
    "sys.path.append(\"..\\..\\src\\py\\SQ_Energy_Balance\")\n",
    "from canopytemperature import model_canopytemperature\n"
   ]
  },
  {
   "cell_type": "code",
   "execution_count": null,
   "id": "4cbe9fb0",
   "metadata": {},
   "outputs": [],
   "source": [
    "rhoDensityAir = 1.225\n",
    "minTair = 0.7\n",
    "maxTair = 7.2\n",
    "cropHeatFlux = 447.912\n",
    "conductance = 598.685\n",
    "lambdaV = 2.454\n",
    "specificHeatCapacityAir = 0.00101\n",
    "params= model_canopytemperature(minTair, maxTair, cropHeatFlux, conductance, lambdaV, rhoDensityAir, specificHeatCapacityAir)\n",
    "\n",
    "minCanopyTemperature_estimated = round(params[0], 3)\n",
    "minCanopyTemperature_computed = 2.184\n",
    "assert (minCanopyTemperature_estimated == minCanopyTemperature_computed)\n",
    "maxCanopyTemperature_estimated = round(params[1], 3)\n",
    "maxCanopyTemperature_computed = 8.684\n",
    "assert (maxCanopyTemperature_estimated == maxCanopyTemperature_computed)"
   ]
  }
 ],
 "metadata": {},
 "nbformat": 4,
 "nbformat_minor": 5
}
