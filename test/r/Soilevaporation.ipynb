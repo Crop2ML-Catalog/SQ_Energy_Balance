{
 "cells": [
  {
   "cell_type": "markdown",
   "id": "dc7a844d",
   "metadata": {},
   "source": [
    "# Automatic generation of Notebook using PyCropML\n",
    "    This notebook implements a crop model."
   ]
  },
  {
   "cell_type": "markdown",
   "id": "4631fc4b",
   "metadata": {},
   "source": [
    "### Model Soilevaporation"
   ]
  },
  {
   "cell_type": "code",
   "execution_count": null,
   "id": "cb295bee",
   "metadata": {},
   "outputs": [],
   "source": [
    "source(\"../../src/r/SQ_Energy_Balance/Soilevaporation.r\")\n",
    "library(assertthat)\n"
   ]
  },
  {
   "cell_type": "code",
   "execution_count": null,
   "id": "7f341a1d",
   "metadata": {},
   "outputs": [],
   "source": [
    "\n",
    "\n",
    "test_test1<-function(){\n",
    "    params= model_soilevaporation(\n",
    "        diffusionLimitedEvaporation = 6605.505,\n",
    "        energyLimitedEvaporation = 448.240\n",
    "        )\n",
    "    soilEvaporation_estimated = params$soilEvaporation\n",
    "    soilEvaporation_computed = 448.240\n",
    "    assert_that(all.equal(soilEvaporation_estimated, soilEvaporation_computed, scale=1, tol=0.3)==TRUE)\n",
    "}\n",
    "test_test1()"
   ]
  }
 ],
 "metadata": {},
 "nbformat": 4,
 "nbformat_minor": 5
}
