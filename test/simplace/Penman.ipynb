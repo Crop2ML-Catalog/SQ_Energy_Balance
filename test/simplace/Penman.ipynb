{
 "cells": [
  {
   "cell_type": "markdown",
   "id": "d4857eb4",
   "metadata": {},
   "source": [
    "# Automatic generation of Notebook using PyCropML\n",
    "    This notebook implements a crop model."
   ]
  },
  {
   "cell_type": "markdown",
   "id": "9814c5d9",
   "metadata": {},
   "source": [
    "### Model Penman"
   ]
  }
 ],
 "metadata": {},
 "nbformat": 4,
 "nbformat_minor": 5
}
