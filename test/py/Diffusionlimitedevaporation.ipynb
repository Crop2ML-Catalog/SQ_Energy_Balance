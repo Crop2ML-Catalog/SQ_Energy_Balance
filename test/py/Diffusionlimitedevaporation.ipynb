{
 "cells": [
  {
   "cell_type": "markdown",
   "id": "3b9d55c4",
   "metadata": {},
   "source": [
    "# Automatic generation of Notebook using PyCropML\n",
    "    This notebook implements a crop model."
   ]
  },
  {
   "cell_type": "markdown",
   "id": "90df6b5d",
   "metadata": {},
   "source": [
    "### Model Diffusionlimitedevaporation"
   ]
  },
  {
   "cell_type": "code",
   "execution_count": null,
   "id": "052e9a0c",
   "metadata": {},
   "outputs": [],
   "source": [
    "import numpy\n",
    "from datetime import datetime\n",
    "import sys\n",
    "sys.path.append(\"..\\..\\src\\py\\SQ_Energy_Balance\")\n",
    "from Diffusionlimitedevaporation import model_diffusionlimitedevaporation\n"
   ]
  },
  {
   "cell_type": "code",
   "execution_count": null,
   "id": "9d0132e8",
   "metadata": {},
   "outputs": [],
   "source": [
    "params= model_diffusionlimitedevaporation(\n",
    "    soilDiffusionConstant = 4.2,\n",
    "    deficitOnTopLayers = 5341,\n",
    "     )\n",
    "diffusionLimitedEvaporation_estimated = round(params, 3)\n",
    "diffusionLimitedEvaporation_computed = 6605.505\n",
    "assert (diffusionLimitedEvaporation_estimated == diffusionLimitedEvaporation_computed)"
   ]
  }
 ],
 "metadata": {},
 "nbformat": 4,
 "nbformat_minor": 5
}
