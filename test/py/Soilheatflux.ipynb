{
 "cells": [
  {
   "cell_type": "markdown",
   "id": "e06fa572",
   "metadata": {},
   "source": [
    "# Automatic generation of Notebook using PyCropML\n",
    "    This notebook implements a crop model."
   ]
  },
  {
   "cell_type": "markdown",
   "id": "71119e66",
   "metadata": {},
   "source": [
    "### Model Soilheatflux"
   ]
  },
  {
   "cell_type": "code",
   "execution_count": null,
   "id": "9638f596",
   "metadata": {},
   "outputs": [],
   "source": [
    "import numpy\n",
    "from datetime import datetime\n",
    "import sys\n",
    "sys.path.append(\"..\\..\\src\\py\\SQ_Energy_Balance\")\n",
    "from Soilheatflux import model_soilheatflux\n"
   ]
  },
  {
   "cell_type": "code",
   "execution_count": null,
   "id": "81e56215",
   "metadata": {},
   "outputs": [],
   "source": [
    "tau = 0.9983\n",
    "netRadiationEquivalentEvaporation = 638.142\n",
    "soilEvaporation = 448.240\n",
    "params= model_soilheatflux(netRadiationEquivalentEvaporation, tau, soilEvaporation)\n",
    "\n",
    "soilHeatFlux_estimated = round(params, 3)\n",
    "soilHeatFlux_computed = 188.817\n",
    "assert (soilHeatFlux_estimated == soilHeatFlux_computed)"
   ]
  }
 ],
 "metadata": {},
 "nbformat": 4,
 "nbformat_minor": 5
}
