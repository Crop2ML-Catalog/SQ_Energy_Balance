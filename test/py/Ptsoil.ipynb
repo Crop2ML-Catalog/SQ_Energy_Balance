{
 "cells": [
  {
   "cell_type": "markdown",
   "id": "091ff0b2",
   "metadata": {},
   "source": [
    "# Automatic generation of Notebook using PyCropML\n",
    "    This notebook implements a crop model."
   ]
  },
  {
   "cell_type": "markdown",
   "id": "c5d411e1",
   "metadata": {},
   "source": [
    "### Model Ptsoil"
   ]
  },
  {
   "cell_type": "code",
   "execution_count": null,
   "id": "039b08ce",
   "metadata": {},
   "outputs": [],
   "source": [
    "import numpy\n",
    "from datetime import datetime\n",
    "from array import array\n",
    "import sys\n",
    "sys.path.append(\"..\\..\\src\\py\\SQ_Energy_Balance\")\n",
    "from ptsoil import model_ptsoil\n"
   ]
  },
  {
   "cell_type": "code",
   "execution_count": null,
   "id": "02d5b0f9",
   "metadata": {},
   "outputs": [],
   "source": [
    "tau = 0.9983\n",
    "evapoTranspirationPriestlyTaylor = 449.367\n",
    "Alpha = 1.5\n",
    "tauAlpha = 0.3\n",
    "params= model_ptsoil(evapoTranspirationPriestlyTaylor, Alpha, tau, tauAlpha)\n",
    "\n",
    "energyLimitedEvaporation_estimated = round(params, 3)\n",
    "energyLimitedEvaporation_computed = 448.240\n",
    "assert (energyLimitedEvaporation_estimated == energyLimitedEvaporation_computed)"
   ]
  }
 ],
 "metadata": {},
 "nbformat": 4,
 "nbformat_minor": 5
}
