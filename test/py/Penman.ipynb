{
 "cells": [
  {
   "cell_type": "markdown",
   "id": "a994cb87",
   "metadata": {},
   "source": [
    "# Automatic generation of Notebook using PyCropML\n",
    "    This notebook implements a crop model."
   ]
  },
  {
   "cell_type": "markdown",
   "id": "e827e4db",
   "metadata": {},
   "source": [
    "### Model Penman"
   ]
  },
  {
   "cell_type": "code",
   "execution_count": null,
   "id": "0ef568ac",
   "metadata": {},
   "outputs": [],
   "source": [
    "import numpy\n",
    "from datetime import datetime\n",
    "from array import array\n",
    "import sys\n",
    "sys.path.append(\"..\\..\\src\\py\\SQ_Energy_Balance\")\n",
    "from penman import model_penman\n"
   ]
  },
  {
   "cell_type": "code",
   "execution_count": null,
   "id": "8a0f8aab",
   "metadata": {},
   "outputs": [],
   "source": [
    "Alpha = 1.5\n",
    "lambdaV = 2.454\n",
    "evapoTranspirationPriestlyTaylor = 449.367\n",
    "hslope = 0.584\n",
    "VPDair = 2.19\n",
    "psychrometricConstant = 0.66\n",
    "rhoDensityAir = 1.225\n",
    "specificHeatCapacityAir = 0.00101\n",
    "conductance = 598.685\n",
    "params= model_penman(evapoTranspirationPriestlyTaylor, hslope, VPDair, psychrometricConstant, Alpha, lambdaV, rhoDensityAir, specificHeatCapacityAir, conductance)\n",
    "\n",
    "evapoTranspirationPenman_estimated = round(params, 3)\n",
    "evapoTranspirationPenman_computed = 830.958\n",
    "assert (evapoTranspirationPenman_estimated == evapoTranspirationPenman_computed)"
   ]
  }
 ],
 "metadata": {},
 "nbformat": 4,
 "nbformat_minor": 5
}
