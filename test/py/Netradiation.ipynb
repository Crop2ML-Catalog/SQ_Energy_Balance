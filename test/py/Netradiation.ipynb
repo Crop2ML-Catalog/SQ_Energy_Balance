{
 "cells": [
  {
   "cell_type": "markdown",
   "id": "481ade40",
   "metadata": {},
   "source": [
    "# Automatic generation of Notebook using PyCropML\n",
    "    This notebook implements a crop model."
   ]
  },
  {
   "cell_type": "markdown",
   "id": "db09f707",
   "metadata": {},
   "source": [
    "### Model Netradiation"
   ]
  },
  {
   "cell_type": "code",
   "execution_count": null,
   "id": "2d1cf7b5",
   "metadata": {},
   "outputs": [],
   "source": [
    "import numpy\n",
    "from datetime import datetime\n",
    "import sys\n",
    "sys.path.append(\"..\\..\\src\\py\\SQ_Energy_Balance\")\n",
    "from Netradiation import model_netradiation\n"
   ]
  },
  {
   "cell_type": "code",
   "execution_count": null,
   "id": "ef9ab367",
   "metadata": {},
   "outputs": [],
   "source": [
    "elevation = 0\n",
    "solarRadiation = 3\n",
    "vaporPressure = 6.1\n",
    "minTair = 0.7\n",
    "maxTair = 7.2\n",
    "albedoCoefficient = 0.23\n",
    "stefanBoltzman = 4.903E-09\n",
    "extraSolarRadiation = 11.7\n",
    "params= model_netradiation(minTair, maxTair, albedoCoefficient, stefanBoltzman, elevation, solarRadiation, vaporPressure, extraSolarRadiation)\n",
    "\n",
    "netRadiation_estimated = round(params[0], 3)\n",
    "netRadiation_computed = 1.566\n",
    "assert (netRadiation_estimated == netRadiation_computed)\n",
    "netOutGoingLongWaveRadiation_estimated = round(params[1], 3)\n",
    "netOutGoingLongWaveRadiation_computed = 0.744\n",
    "assert (netOutGoingLongWaveRadiation_estimated == netOutGoingLongWaveRadiation_computed)"
   ]
  }
 ],
 "metadata": {},
 "nbformat": 4,
 "nbformat_minor": 5
}
