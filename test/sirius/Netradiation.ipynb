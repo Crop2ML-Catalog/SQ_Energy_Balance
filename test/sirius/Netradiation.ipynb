{
 "cells": [
  {
   "cell_type": "markdown",
   "id": "7d1e82f2",
   "metadata": {},
   "source": [
    "# Automatic generation of Notebook using PyCropML\n",
    "    This notebook implements a crop model."
   ]
  },
  {
   "cell_type": "markdown",
   "id": "016aaf88",
   "metadata": {},
   "source": [
    "### Model Netradiation"
   ]
  }
 ],
 "metadata": {},
 "nbformat": 4,
 "nbformat_minor": 5
}
