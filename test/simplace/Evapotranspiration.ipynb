{
 "cells": [
  {
   "cell_type": "markdown",
   "id": "e89c261d",
   "metadata": {},
   "source": [
    "# Automatic generation of Notebook using PyCropML\n",
    "    This notebook implements a crop model."
   ]
  },
  {
   "cell_type": "markdown",
   "id": "29e69b92",
   "metadata": {},
   "source": [
    "### Model Evapotranspiration"
   ]
  }
 ],
 "metadata": {},
 "nbformat": 4,
 "nbformat_minor": 5
}
