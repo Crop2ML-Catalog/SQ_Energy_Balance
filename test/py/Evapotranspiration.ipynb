{
 "cells": [
  {
   "cell_type": "markdown",
   "id": "77a41d50",
   "metadata": {},
   "source": [
    "# Automatic generation of Notebook using PyCropML\n",
    "    This notebook implements a crop model."
   ]
  },
  {
   "cell_type": "markdown",
   "id": "a3c54f75",
   "metadata": {},
   "source": [
    "### Model Evapotranspiration"
   ]
  },
  {
   "cell_type": "code",
   "execution_count": null,
   "id": "25fa8e96",
   "metadata": {},
   "outputs": [],
   "source": [
    "import numpy\n",
    "from datetime import datetime\n",
    "import sys\n",
    "sys.path.append(\"..\\..\\src\\py\\SQ_Energy_Balance\")\n",
    "from Evapotranspiration import model_evapotranspiration\n"
   ]
  },
  {
   "cell_type": "code",
   "execution_count": null,
   "id": "759b9150",
   "metadata": {},
   "outputs": [],
   "source": [
    "isWindVpDefined = 1\n",
    "evapoTranspirationPriestlyTaylor = 449.367\n",
    "evapoTranspirationPenman = 830.957\n",
    "params= model_evapotranspiration(isWindVpDefined, evapoTranspirationPriestlyTaylor, evapoTranspirationPenman)\n",
    "\n",
    "evapoTranspiration_estimated = round(params, 3)\n",
    "evapoTranspiration_computed = 830.957\n",
    "assert (evapoTranspiration_estimated == evapoTranspiration_computed)"
   ]
  }
 ],
 "metadata": {},
 "nbformat": 4,
 "nbformat_minor": 5
}
