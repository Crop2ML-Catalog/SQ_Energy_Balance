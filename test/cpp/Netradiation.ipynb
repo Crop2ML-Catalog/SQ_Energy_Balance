{
 "cells": [
  {
   "cell_type": "markdown",
   "id": "a8a9adcb",
   "metadata": {},
   "source": [
    "# Automatic generation of Notebook using PyCropML\n",
    "    This notebook implements a crop model."
   ]
  },
  {
   "cell_type": "markdown",
   "id": "baa626c0",
   "metadata": {},
   "source": [
    "### Model Netradiation"
   ]
  },
  {
   "cell_type": "code",
   "execution_count": null,
   "id": "945bbb87",
   "metadata": {},
   "outputs": [],
   "source": [
    "#include \"..\\..\\src\\cpp\\SQ_Energy_Balance\\EnergybalanceState.cpp\"\n",
    "#include \"..\\..\\src\\cpp\\SQ_Energy_Balance\\EnergybalanceRate.cpp\"\n",
    "#include \"..\\..\\src\\cpp\\SQ_Energy_Balance\\EnergybalanceAuxiliary.cpp\"\n",
    "#include \"..\\..\\src\\cpp\\SQ_Energy_Balance\\EnergybalanceExogenous.cpp\"\n",
    "#include \"..\\..\\src\\cpp\\SQ_Energy_Balance\\Netradiation.cpp\"\n"
   ]
  },
  {
   "cell_type": "code",
   "execution_count": null,
   "id": "5c353274",
   "metadata": {},
   "outputs": [],
   "source": [
    "class Test\n",
    "{\n",
    "    private:\n",
    "        EnergybalanceState s;\n",
    "        EnergybalanceState s1;\n",
    "        EnergybalanceRate r;\n",
    "        EnergybalanceAuxiliary a;\n",
    "        EnergybalanceExogenous ex;\n",
    "        Netradiation mod;\n",
    "    public:\n",
    "        //first\n",
    "\n",
    "        // test1\n",
    "        void test1()\n",
    "        {\n",
    "            this->mod.setelevation(0);\n",
    "            this->a.setsolarRadiation(3);\n",
    "            this->a.setvaporPressure(6.1);\n",
    "            this->a.setminTair(0.7);\n",
    "            this->a.setmaxTair(7.2);\n",
    "            this->mod.setalbedoCoefficient(0.23);\n",
    "            this->mod.setstefanBoltzman(4.903E-09);\n",
    "            this->a.setextraSolarRadiation(11.7);\n",
    "            this->mod.Calculate_Model(s,s1, r, a, ex);\n",
    "            //netRadiation: 1.566;\n",
    "            cout << \"netRadiation estimated :\\n\";\n",
    "            cout << \"\\t\" << this->a.getnetRadiation() << \"\\n\";\n",
    "            //netOutGoingLongWaveRadiation: 0.744;\n",
    "            cout << \"netOutGoingLongWaveRadiation estimated :\\n\";\n",
    "            cout << \"\\t\" << this->a.getnetOutGoingLongWaveRadiation() << \"\\n\";\n",
    "        };\n",
    "}\n"
   ]
  },
  {
   "cell_type": "code",
   "execution_count": null,
   "id": "d8a80323",
   "metadata": {},
   "outputs": [],
   "source": [
    "Test t;\n",
    "t.test1();\n"
   ]
  }
 ],
 "metadata": {},
 "nbformat": 4,
 "nbformat_minor": 5
}
