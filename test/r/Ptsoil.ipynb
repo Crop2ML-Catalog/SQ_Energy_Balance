{
 "cells": [
  {
   "cell_type": "markdown",
   "id": "c20fe891",
   "metadata": {},
   "source": [
    "# Automatic generation of Notebook using PyCropML\n",
    "    This notebook implements a crop model."
   ]
  },
  {
   "cell_type": "markdown",
   "id": "203f8870",
   "metadata": {},
   "source": [
    "### Model Ptsoil"
   ]
  },
  {
   "cell_type": "code",
   "execution_count": null,
   "id": "c3c1f67d",
   "metadata": {},
   "outputs": [],
   "source": [
    "source(\"../../src/r/SQ_Energy_Balance/Ptsoil.r\")\n",
    "library(assertthat)\n"
   ]
  },
  {
   "cell_type": "code",
   "execution_count": null,
   "id": "daa39f29",
   "metadata": {},
   "outputs": [],
   "source": [
    "\n",
    "\n",
    "test_test1<-function(){\n",
    "    params= model_ptsoil(\n",
    "        tau = 0.9983,\n",
    "        evapoTranspirationPriestlyTaylor = 449.367\n",
    "        )\n",
    "    energyLimitedEvaporation_estimated = params$energyLimitedEvaporation\n",
    "    energyLimitedEvaporation_computed = 448.240\n",
    "    assert_that(all.equal(energyLimitedEvaporation_estimated, energyLimitedEvaporation_computed, scale=1, tol=0.3)==TRUE)\n",
    "}\n",
    "test_test1()"
   ]
  }
 ],
 "metadata": {},
 "nbformat": 4,
 "nbformat_minor": 5
}
