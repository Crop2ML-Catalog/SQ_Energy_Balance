{
 "cells": [
  {
   "cell_type": "markdown",
   "id": "d9eb15c9",
   "metadata": {},
   "source": [
    "# Automatic generation of Notebook using PyCropML\n",
    "    This notebook implements a crop model."
   ]
  },
  {
   "cell_type": "markdown",
   "id": "4d833648",
   "metadata": {},
   "source": [
    "### Model Cropheatflux"
   ]
  },
  {
   "cell_type": "code",
   "execution_count": null,
   "id": "0e986e2f",
   "metadata": {},
   "outputs": [],
   "source": [
    "#include \"..\\..\\src\\cpp\\SQ_Energy_Balance\\EnergybalanceState.cpp\"\n",
    "#include \"..\\..\\src\\cpp\\SQ_Energy_Balance\\EnergybalanceRate.cpp\"\n",
    "#include \"..\\..\\src\\cpp\\SQ_Energy_Balance\\EnergybalanceAuxiliary.cpp\"\n",
    "#include \"..\\..\\src\\cpp\\SQ_Energy_Balance\\EnergybalanceExogenous.cpp\"\n",
    "#include \"..\\..\\src\\cpp\\SQ_Energy_Balance\\Cropheatflux.cpp\"\n"
   ]
  },
  {
   "cell_type": "code",
   "execution_count": null,
   "id": "91547641",
   "metadata": {},
   "outputs": [],
   "source": [
    "class Test\n",
    "{\n",
    "    private:\n",
    "        EnergybalanceState s;\n",
    "        EnergybalanceState s1;\n",
    "        EnergybalanceRate r;\n",
    "        EnergybalanceAuxiliary a;\n",
    "        EnergybalanceExogenous ex;\n",
    "        Cropheatflux mod;\n",
    "    public:\n",
    "        //first\n",
    "\n",
    "        // test1\n",
    "        void test1()\n",
    "        {\n",
    "            this->a.setnetRadiationEquivalentEvaporation(638.142);\n",
    "            this->r.setsoilHeatFlux(188.817);\n",
    "            this->r.setpotentialTranspiration( 1.413);\n",
    "            this->mod.Calculate_Model(s,s1, r, a, ex);\n",
    "            //cropHeatFlux:  447.912;\n",
    "            cout << \"cropHeatFlux estimated :\\n\";\n",
    "            cout << \"\\t\" << this->r.getcropHeatFlux() << \"\\n\";\n",
    "        };\n",
    "}\n"
   ]
  },
  {
   "cell_type": "code",
   "execution_count": null,
   "id": "e34dc739",
   "metadata": {},
   "outputs": [],
   "source": [
    "Test t;\n",
    "t.test1();\n"
   ]
  }
 ],
 "metadata": {},
 "nbformat": 4,
 "nbformat_minor": 5
}
