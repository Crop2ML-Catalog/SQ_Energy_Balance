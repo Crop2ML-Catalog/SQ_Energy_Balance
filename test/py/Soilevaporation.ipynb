{
 "cells": [
  {
   "cell_type": "markdown",
   "id": "c8d87496",
   "metadata": {},
   "source": [
    "# Automatic generation of Notebook using PyCropML\n",
    "    This notebook implements a crop model."
   ]
  },
  {
   "cell_type": "markdown",
   "id": "a18ed2f9",
   "metadata": {},
   "source": [
    "### Model Soilevaporation"
   ]
  },
  {
   "cell_type": "code",
   "execution_count": null,
   "id": "573fbac2",
   "metadata": {},
   "outputs": [],
   "source": [
    "import numpy\n",
    "from datetime import datetime\n",
    "from array import array\n",
    "import sys\n",
    "sys.path.append(\"..\\..\\src\\py\\SQ_Energy_Balance\")\n",
    "from soilevaporation import model_soilevaporation\n"
   ]
  },
  {
   "cell_type": "code",
   "execution_count": null,
   "id": "9cc6d819",
   "metadata": {},
   "outputs": [],
   "source": [
    "diffusionLimitedEvaporation = 6605.505\n",
    "energyLimitedEvaporation = 448.240\n",
    "params= model_soilevaporation(diffusionLimitedEvaporation, energyLimitedEvaporation)\n",
    "\n",
    "soilEvaporation_estimated = round(params, 3)\n",
    "soilEvaporation_computed = 448.240\n",
    "assert (soilEvaporation_estimated == soilEvaporation_computed)"
   ]
  }
 ],
 "metadata": {},
 "nbformat": 4,
 "nbformat_minor": 5
}
