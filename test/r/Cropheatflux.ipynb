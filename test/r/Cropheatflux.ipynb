{
 "cells": [
  {
   "cell_type": "markdown",
   "id": "85b1a0e4",
   "metadata": {},
   "source": [
    "# Automatic generation of Notebook using PyCropML\n",
    "    This notebook implements a crop model."
   ]
  },
  {
   "cell_type": "markdown",
   "id": "5c20b8f6",
   "metadata": {},
   "source": [
    "### Model Cropheatflux"
   ]
  },
  {
   "cell_type": "code",
   "execution_count": null,
   "id": "c6726b0a",
   "metadata": {},
   "outputs": [],
   "source": [
    "source(\"../../src/r/SQ_Energy_Balance/Cropheatflux.r\")\n",
    "library(assertthat)\n"
   ]
  },
  {
   "cell_type": "code",
   "execution_count": null,
   "id": "0b78132b",
   "metadata": {},
   "outputs": [],
   "source": [
    "\n",
    "\n",
    "test_test1<-function(){\n",
    "    params= model_cropheatflux(\n",
    "        netRadiationEquivalentEvaporation = 638.142,\n",
    "        soilHeatFlux = 188.817,\n",
    "        potentialTranspiration =  1.413\n",
    "        )\n",
    "    cropHeatFlux_estimated = params$cropHeatFlux\n",
    "    cropHeatFlux_computed =  447.912\n",
    "    assert_that(all.equal(cropHeatFlux_estimated, cropHeatFlux_computed, scale=1, tol=0.3)==TRUE)\n",
    "}\n",
    "test_test1()"
   ]
  }
 ],
 "metadata": {},
 "nbformat": 4,
 "nbformat_minor": 5
}
