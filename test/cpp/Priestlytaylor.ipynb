{
 "cells": [
  {
   "cell_type": "markdown",
   "id": "b0d6f7dd",
   "metadata": {},
   "source": [
    "# Automatic generation of Notebook using PyCropML\n",
    "    This notebook implements a crop model."
   ]
  },
  {
   "cell_type": "markdown",
   "id": "7311288a",
   "metadata": {},
   "source": [
    "### Model Priestlytaylor"
   ]
  },
  {
   "cell_type": "code",
   "execution_count": null,
   "id": "5ee3d34d",
   "metadata": {},
   "outputs": [],
   "source": [
    "#include \"..\\..\\src\\cpp\\SQ_Energy_Balance\\EnergybalanceState.cpp\"\n",
    "#include \"..\\..\\src\\cpp\\SQ_Energy_Balance\\EnergybalanceRate.cpp\"\n",
    "#include \"..\\..\\src\\cpp\\SQ_Energy_Balance\\EnergybalanceAuxiliary.cpp\"\n",
    "#include \"..\\..\\src\\cpp\\SQ_Energy_Balance\\EnergybalanceExogenous.cpp\"\n",
    "#include \"..\\..\\src\\cpp\\SQ_Energy_Balance\\Priestlytaylor.cpp\"\n"
   ]
  },
  {
   "cell_type": "code",
   "execution_count": null,
   "id": "d4d5fd2e",
   "metadata": {},
   "outputs": [],
   "source": [
    "class Test\n",
    "{\n",
    "    private:\n",
    "        EnergybalanceState s;\n",
    "        EnergybalanceState s1;\n",
    "        EnergybalanceRate r;\n",
    "        EnergybalanceAuxiliary a;\n",
    "        EnergybalanceExogenous ex;\n",
    "        Priestlytaylor mod;\n",
    "    public:\n",
    "        //first\n",
    "\n",
    "        // test1\n",
    "        void test1()\n",
    "        {\n",
    "            this->mod.setAlpha(1.5);\n",
    "            this->s.setnetRadiationEquivalentEvaporation(638.142);\n",
    "            this->a.sethslope(0.584);\n",
    "            this->mod.setpsychrometricConstant(0.66);\n",
    "            this->mod.Calculate_Model(s,s1, r, a, ex);\n",
    "            //evapoTranspirationPriestlyTaylor: 449.367;\n",
    "            cout << \"evapoTranspirationPriestlyTaylor estimated :\\n\";\n",
    "            cout << \"\\t\" << this->r.getevapoTranspirationPriestlyTaylor() << \"\\n\";\n",
    "        };\n",
    "}\n"
   ]
  },
  {
   "cell_type": "code",
   "execution_count": null,
   "id": "79e8b45b",
   "metadata": {},
   "outputs": [],
   "source": [
    "Test t;\n",
    "t.test1();\n"
   ]
  }
 ],
 "metadata": {},
 "nbformat": 4,
 "nbformat_minor": 5
}
