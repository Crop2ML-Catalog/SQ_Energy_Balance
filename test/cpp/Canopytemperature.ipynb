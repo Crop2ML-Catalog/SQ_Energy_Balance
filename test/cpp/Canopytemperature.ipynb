{
 "cells": [
  {
   "cell_type": "markdown",
   "id": "0cd04329",
   "metadata": {},
   "source": [
    "# Automatic generation of Notebook using PyCropML\n",
    "    This notebook implements a crop model."
   ]
  },
  {
   "cell_type": "markdown",
   "id": "a87be96d",
   "metadata": {},
   "source": [
    "### Model Canopytemperature"
   ]
  },
  {
   "cell_type": "code",
   "execution_count": null,
   "id": "a9591461",
   "metadata": {},
   "outputs": [],
   "source": [
    "#include \"..\\..\\src\\cpp\\SQ_Energy_Balance\\EnergybalanceState.cpp\"\n",
    "#include \"..\\..\\src\\cpp\\SQ_Energy_Balance\\EnergybalanceRate.cpp\"\n",
    "#include \"..\\..\\src\\cpp\\SQ_Energy_Balance\\EnergybalanceAuxiliary.cpp\"\n",
    "#include \"..\\..\\src\\cpp\\SQ_Energy_Balance\\EnergybalanceExogenous.cpp\"\n",
    "#include \"..\\..\\src\\cpp\\SQ_Energy_Balance\\Canopytemperature.cpp\"\n"
   ]
  },
  {
   "cell_type": "code",
   "execution_count": null,
   "id": "86ad3e72",
   "metadata": {},
   "outputs": [],
   "source": [
    "class Test\n",
    "{\n",
    "    private:\n",
    "        EnergybalanceState s;\n",
    "        EnergybalanceState s1;\n",
    "        EnergybalanceRate r;\n",
    "        EnergybalanceAuxiliary a;\n",
    "        EnergybalanceExogenous ex;\n",
    "        Canopytemperature mod;\n",
    "    public:\n",
    "        //first\n",
    "\n",
    "        // test1\n",
    "        void test1()\n",
    "        {\n",
    "            this->mod.setrhoDensityAir(1.225);\n",
    "            this->a.setminTair(0.7);\n",
    "            this->a.setmaxTair(7.2);\n",
    "            this->r.setcropHeatFlux(447.912);\n",
    "            this->s.setconductance(598.685);\n",
    "            this->mod.setlambdaV(2.454);\n",
    "            this->mod.setspecificHeatCapacityAir(0.00101);\n",
    "            this->mod.Calculate_Model(s,s1, r, a, ex);\n",
    "            //minCanopyTemperature: 2.184;\n",
    "            cout << \"minCanopyTemperature estimated :\\n\";\n",
    "            cout << \"\\t\" << this->s.getminCanopyTemperature() << \"\\n\";\n",
    "            //maxCanopyTemperature: 8.684;\n",
    "            cout << \"maxCanopyTemperature estimated :\\n\";\n",
    "            cout << \"\\t\" << this->s.getmaxCanopyTemperature() << \"\\n\";\n",
    "        };\n",
    "}\n"
   ]
  },
  {
   "cell_type": "code",
   "execution_count": null,
   "id": "c9542d1f",
   "metadata": {},
   "outputs": [],
   "source": [
    "Test t;\n",
    "t.test1();\n"
   ]
  }
 ],
 "metadata": {},
 "nbformat": 4,
 "nbformat_minor": 5
}
