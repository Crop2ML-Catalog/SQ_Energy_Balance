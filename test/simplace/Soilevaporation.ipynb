{
 "cells": [
  {
   "cell_type": "markdown",
   "id": "5c8a25b6",
   "metadata": {},
   "source": [
    "# Automatic generation of Notebook using PyCropML\n",
    "    This notebook implements a crop model."
   ]
  },
  {
   "cell_type": "markdown",
   "id": "0c5e74e3",
   "metadata": {},
   "source": [
    "### Model Soilevaporation"
   ]
  }
 ],
 "metadata": {},
 "nbformat": 4,
 "nbformat_minor": 5
}
