{
 "cells": [
  {
   "cell_type": "markdown",
   "id": "8047e7e5",
   "metadata": {},
   "source": [
    "# Automatic generation of Notebook using PyCropML\n",
    "    This notebook implements a crop model."
   ]
  },
  {
   "cell_type": "markdown",
   "id": "914de94a",
   "metadata": {},
   "source": [
    "### Model Diffusionlimitedevaporation"
   ]
  },
  {
   "cell_type": "code",
   "execution_count": null,
   "id": "223bd4ab",
   "metadata": {},
   "outputs": [],
   "source": [
    "source(\"../../src/r/SQ_Energy_Balance/Diffusionlimitedevaporation.r\")\n",
    "library(assertthat)\n"
   ]
  },
  {
   "cell_type": "code",
   "execution_count": null,
   "id": "3d47b55c",
   "metadata": {},
   "outputs": [],
   "source": [
    "\n",
    "\n",
    "test_test1<-function(){\n",
    "    params= model_diffusionlimitedevaporation(\n",
    "        soilDiffusionConstant = 4.2,\n",
    "        deficitOnTopLayers = 5341\n",
    "        )\n",
    "    diffusionLimitedEvaporation_estimated = params$diffusionLimitedEvaporation\n",
    "    diffusionLimitedEvaporation_computed = 6605.505\n",
    "    assert_that(all.equal(diffusionLimitedEvaporation_estimated, diffusionLimitedEvaporation_computed, scale=1, tol=0.3)==TRUE)\n",
    "}\n",
    "test_test1()"
   ]
  }
 ],
 "metadata": {},
 "nbformat": 4,
 "nbformat_minor": 5
}
