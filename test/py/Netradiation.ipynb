{
 "cells": [
  {
   "cell_type": "markdown",
   "id": "1401053a",
   "metadata": {},
   "source": [
    "# Automatic generation of Notebook using PyCropML\n",
    "    This notebook implements a crop model."
   ]
  },
  {
   "cell_type": "markdown",
   "id": "51c49733",
   "metadata": {},
   "source": [
    "### Model Netradiation"
   ]
  },
  {
   "cell_type": "code",
   "execution_count": null,
   "id": "9e712db9",
   "metadata": {},
   "outputs": [],
   "source": [
    "import numpy\n",
    "from datetime import datetime\n",
    "import sys\n",
    "sys.path.append(\"..\\..\\src\\py\\SQ_Energy_Balance\")\n",
    "from Netradiation import model_netradiation\n"
   ]
  },
  {
   "cell_type": "code",
   "execution_count": null,
   "id": "5d6f798f",
   "metadata": {},
   "outputs": [],
   "source": [
    "params= model_netradiation(\n",
    "    elevation = 0,\n",
    "    solarRadiation = 3,\n",
    "    vaporPressure = 6.1,\n",
    "     )\n",
    "netRadiation_estimated = round(params[0], 3)\n",
    "netRadiation_computed = 1.566\n",
    "assert (netRadiation_estimated == netRadiation_computed)\n",
    "netOutGoingLongWaveRadiation_estimated = round(params[1], 3)\n",
    "netOutGoingLongWaveRadiation_computed = 0.744\n",
    "assert (netOutGoingLongWaveRadiation_estimated == netOutGoingLongWaveRadiation_computed)"
   ]
  }
 ],
 "metadata": {},
 "nbformat": 4,
 "nbformat_minor": 5
}
