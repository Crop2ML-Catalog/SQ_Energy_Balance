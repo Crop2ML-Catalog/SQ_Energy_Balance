{
 "cells": [
  {
   "cell_type": "markdown",
   "id": "c3ac699a",
   "metadata": {},
   "source": [
    "# Automatic generation of Notebook using PyCropML\n",
    "    This notebook implements a crop model."
   ]
  },
  {
   "cell_type": "markdown",
   "id": "18bb550a",
   "metadata": {},
   "source": [
    "### Model Priestlytaylor"
   ]
  },
  {
   "cell_type": "code",
   "execution_count": null,
   "id": "86123102",
   "metadata": {},
   "outputs": [],
   "source": [
    "source(\"../../src/r/SQ_Energy_Balance/Priestlytaylor.r\")\n",
    "library(assertthat)\n"
   ]
  },
  {
   "cell_type": "code",
   "execution_count": null,
   "id": "48d7c998",
   "metadata": {},
   "outputs": [],
   "source": [
    "\n",
    "\n",
    "test_test1<-function(){\n",
    "    params= model_priestlytaylor(\n",
    "        Alpha = 1.5,\n",
    "        netRadiationEquivalentEvaporation = 638.142\n",
    "        )\n",
    "    evapoTranspirationPriestlyTaylor_estimated = params$evapoTranspirationPriestlyTaylor\n",
    "    evapoTranspirationPriestlyTaylor_computed = 449.367\n",
    "    assert_that(all.equal(evapoTranspirationPriestlyTaylor_estimated, evapoTranspirationPriestlyTaylor_computed, scale=1, tol=0.3)==TRUE)\n",
    "}\n",
    "test_test1()"
   ]
  }
 ],
 "metadata": {},
 "nbformat": 4,
 "nbformat_minor": 5
}
