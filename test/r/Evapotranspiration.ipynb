{
 "cells": [
  {
   "cell_type": "markdown",
   "id": "35eafa27",
   "metadata": {},
   "source": [
    "# Automatic generation of Notebook using PyCropML\n",
    "    This notebook implements a crop model."
   ]
  },
  {
   "cell_type": "markdown",
   "id": "64d4c5a4",
   "metadata": {},
   "source": [
    "### Model Evapotranspiration"
   ]
  },
  {
   "cell_type": "code",
   "execution_count": null,
   "id": "4490d89d",
   "metadata": {},
   "outputs": [],
   "source": [
    "source(\"../../src/r/SQ_Energy_Balance/Evapotranspiration.r\")\n",
    "library(assertthat)\n"
   ]
  },
  {
   "cell_type": "code",
   "execution_count": null,
   "id": "50c2898a",
   "metadata": {},
   "outputs": [],
   "source": [
    "\n",
    "\n",
    "test_test1<-function(){\n",
    "    params= model_evapotranspiration(\n",
    "        isWindVpDefined = 1,\n",
    "        evapoTranspirationPriestlyTaylor = 449.367,\n",
    "        evapoTranspirationPenman = 830.957\n",
    "        )\n",
    "    evapoTranspiration_estimated = params$evapoTranspiration\n",
    "    evapoTranspiration_computed = 830.957\n",
    "    assert_that(all.equal(evapoTranspiration_estimated, evapoTranspiration_computed, scale=1, tol=0.3)==TRUE)\n",
    "}\n",
    "test_test1()"
   ]
  }
 ],
 "metadata": {},
 "nbformat": 4,
 "nbformat_minor": 5
}
