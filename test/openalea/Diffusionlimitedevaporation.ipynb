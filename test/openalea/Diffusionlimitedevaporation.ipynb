{
 "cells": [
  {
   "cell_type": "markdown",
   "id": "e35e8e01",
   "metadata": {},
   "source": [
    "# Automatic generation of Notebook using PyCropML\n",
    "    This notebook implements a crop model."
   ]
  },
  {
   "cell_type": "markdown",
   "id": "5729ff88",
   "metadata": {},
   "source": [
    "### Model Diffusionlimitedevaporation"
   ]
  }
 ],
 "metadata": {},
 "nbformat": 4,
 "nbformat_minor": 5
}
