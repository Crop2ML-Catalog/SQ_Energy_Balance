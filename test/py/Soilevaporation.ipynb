{
 "cells": [
  {
   "cell_type": "markdown",
   "id": "164f44b5",
   "metadata": {},
   "source": [
    "# Automatic generation of Notebook using PyCropML\n",
    "    This notebook implements a crop model."
   ]
  },
  {
   "cell_type": "markdown",
   "id": "f12fd760",
   "metadata": {},
   "source": [
    "### Model Soilevaporation"
   ]
  },
  {
   "cell_type": "code",
   "execution_count": null,
   "id": "e452f6d0",
   "metadata": {},
   "outputs": [],
   "source": [
    "import numpy\n",
    "from datetime import datetime\n",
    "import sys\n",
    "sys.path.append(\"..\\..\\src\\py\\SQ_Energy_Balance\")\n",
    "from Soilevaporation import model_soilevaporation\n"
   ]
  },
  {
   "cell_type": "code",
   "execution_count": null,
   "id": "1c3c9994",
   "metadata": {},
   "outputs": [],
   "source": [
    "params= model_soilevaporation(\n",
    "    diffusionLimitedEvaporation = 6605.505,\n",
    "    energyLimitedEvaporation = 448.240,\n",
    "     )\n",
    "soilEvaporation_estimated = round(params, 3)\n",
    "soilEvaporation_computed = 448.240\n",
    "assert (soilEvaporation_estimated == soilEvaporation_computed)"
   ]
  }
 ],
 "metadata": {},
 "nbformat": 4,
 "nbformat_minor": 5
}
