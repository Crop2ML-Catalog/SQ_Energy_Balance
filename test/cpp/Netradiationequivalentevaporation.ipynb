{
 "cells": [
  {
   "cell_type": "markdown",
   "id": "c9d2a0fc",
   "metadata": {},
   "source": [
    "# Automatic generation of Notebook using PyCropML\n",
    "    This notebook implements a crop model."
   ]
  },
  {
   "cell_type": "markdown",
   "id": "863282f3",
   "metadata": {},
   "source": [
    "### Model Netradiationequivalentevaporation"
   ]
  },
  {
   "cell_type": "code",
   "execution_count": null,
   "id": "e5e0dc09",
   "metadata": {},
   "outputs": [],
   "source": [
    "#include \"..\\..\\src\\cpp\\SQ_Energy_Balance\\EnergybalanceState.cpp\"\n",
    "#include \"..\\..\\src\\cpp\\SQ_Energy_Balance\\EnergybalanceRate.cpp\"\n",
    "#include \"..\\..\\src\\cpp\\SQ_Energy_Balance\\EnergybalanceAuxiliary.cpp\"\n",
    "#include \"..\\..\\src\\cpp\\SQ_Energy_Balance\\EnergybalanceExogenous.cpp\"\n",
    "#include \"..\\..\\src\\cpp\\SQ_Energy_Balance\\Netradiationequivalentevaporation.cpp\"\n"
   ]
  },
  {
   "cell_type": "code",
   "execution_count": null,
   "id": "50c29091",
   "metadata": {},
   "outputs": [],
   "source": [
    "class Test\n",
    "{\n",
    "    private:\n",
    "        EnergybalanceState s;\n",
    "        EnergybalanceState s1;\n",
    "        EnergybalanceRate r;\n",
    "        EnergybalanceAuxiliary a;\n",
    "        EnergybalanceExogenous ex;\n",
    "        Netradiationequivalentevaporation mod;\n",
    "    public:\n",
    "        //first\n",
    "\n",
    "        // test1\n",
    "        void test1()\n",
    "        {\n",
    "            this->s.setnetRadiation(1.566);\n",
    "            this->mod.setlambdaV(2.454);\n",
    "            this->mod.Calculate_Model(s,s1, r, a, ex);\n",
    "            //netRadiationEquivalentEvaporation: 638.142;\n",
    "            cout << \"netRadiationEquivalentEvaporation estimated :\\n\";\n",
    "            cout << \"\\t\" << this->a.getnetRadiationEquivalentEvaporation() << \"\\n\";\n",
    "        };\n",
    "}\n"
   ]
  },
  {
   "cell_type": "code",
   "execution_count": null,
   "id": "061dbd81",
   "metadata": {},
   "outputs": [],
   "source": [
    "Test t;\n",
    "t.test1();\n"
   ]
  }
 ],
 "metadata": {},
 "nbformat": 4,
 "nbformat_minor": 5
}
