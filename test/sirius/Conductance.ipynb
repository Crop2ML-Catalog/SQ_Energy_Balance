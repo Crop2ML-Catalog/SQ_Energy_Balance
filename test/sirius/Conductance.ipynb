{
 "cells": [
  {
   "cell_type": "markdown",
   "id": "4c8cf7a1",
   "metadata": {},
   "source": [
    "# Automatic generation of Notebook using PyCropML\n",
    "    This notebook implements a crop model."
   ]
  },
  {
   "cell_type": "markdown",
   "id": "d72a8153",
   "metadata": {},
   "source": [
    "### Model Conductance"
   ]
  }
 ],
 "metadata": {},
 "nbformat": 4,
 "nbformat_minor": 5
}
