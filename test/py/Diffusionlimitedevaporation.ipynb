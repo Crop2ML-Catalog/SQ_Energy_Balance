{
 "cells": [
  {
   "cell_type": "markdown",
   "id": "3c7c8014",
   "metadata": {},
   "source": [
    "# Automatic generation of Notebook using PyCropML\n",
    "    This notebook implements a crop model."
   ]
  },
  {
   "cell_type": "markdown",
   "id": "d9ea3c5d",
   "metadata": {},
   "source": [
    "### Model Diffusionlimitedevaporation"
   ]
  },
  {
   "cell_type": "code",
   "execution_count": null,
   "id": "ec56a76f",
   "metadata": {},
   "outputs": [],
   "source": [
    "import numpy\n",
    "from datetime import datetime\n",
    "import sys\n",
    "sys.path.append(\"..\\..\\src\\py\\SQ_Energy_Balance\")\n",
    "from Diffusionlimitedevaporation import model_diffusionlimitedevaporation\n"
   ]
  },
  {
   "cell_type": "code",
   "execution_count": null,
   "id": "77580a31",
   "metadata": {},
   "outputs": [],
   "source": [
    "soilDiffusionConstant = 4.2\n",
    "deficitOnTopLayers = 5341\n",
    "params= model_diffusionlimitedevaporation(deficitOnTopLayers, soilDiffusionConstant)\n",
    "\n",
    "diffusionLimitedEvaporation_estimated = round(params, 3)\n",
    "diffusionLimitedEvaporation_computed = 6605.505\n",
    "assert (diffusionLimitedEvaporation_estimated == diffusionLimitedEvaporation_computed)"
   ]
  }
 ],
 "metadata": {},
 "nbformat": 4,
 "nbformat_minor": 5
}
