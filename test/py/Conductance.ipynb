{
 "cells": [
  {
   "cell_type": "markdown",
   "id": "869ea929",
   "metadata": {},
   "source": [
    "# Automatic generation of Notebook using PyCropML\n",
    "    This notebook implements a crop model."
   ]
  },
  {
   "cell_type": "markdown",
   "id": "d8e27f4a",
   "metadata": {},
   "source": [
    "### Model Conductance"
   ]
  },
  {
   "cell_type": "code",
   "execution_count": null,
   "id": "e37af00f",
   "metadata": {},
   "outputs": [],
   "source": [
    "import numpy\n",
    "from datetime import datetime\n",
    "import sys\n",
    "sys.path.append(\"..\\..\\src\\py\\SQ_Energy_Balance\")\n",
    "from Conductance import model_conductance\n"
   ]
  },
  {
   "cell_type": "code",
   "execution_count": null,
   "id": "d9832ea5",
   "metadata": {},
   "outputs": [],
   "source": [
    "params= model_conductance(\n",
    "    d = 0.67,\n",
    "    zh = 0.013,\n",
    "    zm = 0.13,\n",
    "    wind = 124000,\n",
    "    plantHeight = 0,\n",
    "     )\n",
    "conductance_estimated = round(params, 3)\n",
    "conductance_computed = 598.685\n",
    "assert (conductance_estimated == conductance_computed)"
   ]
  }
 ],
 "metadata": {},
 "nbformat": 4,
 "nbformat_minor": 5
}
