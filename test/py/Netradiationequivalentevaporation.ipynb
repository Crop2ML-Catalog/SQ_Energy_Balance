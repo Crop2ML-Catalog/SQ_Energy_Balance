{
 "cells": [
  {
   "cell_type": "markdown",
   "id": "d523c0a1",
   "metadata": {},
   "source": [
    "# Automatic generation of Notebook using PyCropML\n",
    "    This notebook implements a crop model."
   ]
  },
  {
   "cell_type": "markdown",
   "id": "4a44c72b",
   "metadata": {},
   "source": [
    "### Model Netradiationequivalentevaporation"
   ]
  },
  {
   "cell_type": "code",
   "execution_count": null,
   "id": "d5b0a1ab",
   "metadata": {},
   "outputs": [],
   "source": [
    "import numpy\n",
    "from datetime import datetime\n",
    "import sys\n",
    "sys.path.append(\"..\\..\\src\\py\\SQ_Energy_Balance\")\n",
    "from Netradiationequivalentevaporation import model_netradiationequivalentevaporation\n"
   ]
  },
  {
   "cell_type": "code",
   "execution_count": null,
   "id": "205b432b",
   "metadata": {},
   "outputs": [],
   "source": [
    "params= model_netradiationequivalentevaporation(\n",
    "    netRadiation = 1.566,\n",
    "     )\n",
    "netRadiationEquivalentEvaporation_estimated = round(params, 3)\n",
    "netRadiationEquivalentEvaporation_computed = 638.142\n",
    "assert (netRadiationEquivalentEvaporation_estimated == netRadiationEquivalentEvaporation_computed)"
   ]
  }
 ],
 "metadata": {},
 "nbformat": 4,
 "nbformat_minor": 5
}
