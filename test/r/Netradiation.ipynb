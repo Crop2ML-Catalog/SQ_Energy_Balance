{
 "cells": [
  {
   "cell_type": "markdown",
   "id": "f382ab88",
   "metadata": {},
   "source": [
    "# Automatic generation of Notebook using PyCropML\n",
    "    This notebook implements a crop model."
   ]
  },
  {
   "cell_type": "markdown",
   "id": "fc35a841",
   "metadata": {},
   "source": [
    "### Model Netradiation"
   ]
  },
  {
   "cell_type": "code",
   "execution_count": null,
   "id": "33f0c9ff",
   "metadata": {},
   "outputs": [],
   "source": [
    "source(\"../../src/r/SQ_Energy_Balance/Netradiation.r\")\n",
    "library(assertthat)\n"
   ]
  },
  {
   "cell_type": "code",
   "execution_count": null,
   "id": "03f8a3e7",
   "metadata": {},
   "outputs": [],
   "source": [
    "\n",
    "\n",
    "test_test1<-function(){\n",
    "    params= model_netradiation(\n",
    "        elevation = 0,\n",
    "        solarRadiation = 3,\n",
    "        vaporPressure = 6.1\n",
    "        )\n",
    "    netRadiation_estimated = params$netRadiation\n",
    "    netRadiation_computed = 1.566\n",
    "    assert_that(all.equal(netRadiation_estimated, netRadiation_computed, scale=1, tol=0.3)==TRUE)\n",
    "    netOutGoingLongWaveRadiation_estimated = params$netOutGoingLongWaveRadiation\n",
    "    netOutGoingLongWaveRadiation_computed = 0.744\n",
    "    assert_that(all.equal(netOutGoingLongWaveRadiation_estimated, netOutGoingLongWaveRadiation_computed, scale=1, tol=0.3)==TRUE)\n",
    "}\n",
    "test_test1()"
   ]
  }
 ],
 "metadata": {},
 "nbformat": 4,
 "nbformat_minor": 5
}
