{
 "cells": [
  {
   "cell_type": "markdown",
   "id": "1e649b16",
   "metadata": {},
   "source": [
    "# Automatic generation of Notebook using PyCropML\n",
    "    This notebook implements a crop model."
   ]
  },
  {
   "cell_type": "markdown",
   "id": "43678809",
   "metadata": {},
   "source": [
    "### Model Potentialtranspiration"
   ]
  },
  {
   "cell_type": "code",
   "execution_count": null,
   "id": "724d9d71",
   "metadata": {},
   "outputs": [],
   "source": [
    "import numpy\n",
    "from datetime import datetime\n",
    "from array import array\n",
    "import sys\n",
    "sys.path.append(\"..\\..\\src\\py\\SQ_Energy_Balance\")\n",
    "from potentialtranspiration import model_potentialtranspiration\n"
   ]
  },
  {
   "cell_type": "code",
   "execution_count": null,
   "id": "7feb49f0",
   "metadata": {},
   "outputs": [],
   "source": [
    "tau = 0.9983\n",
    "evapoTranspiration = 830.958\n",
    "params= model_potentialtranspiration(evapoTranspiration, tau)\n",
    "\n",
    "potentialTranspiration_estimated = round(params, 3)\n",
    "potentialTranspiration_computed = 1.413\n",
    "assert (potentialTranspiration_estimated == potentialTranspiration_computed)"
   ]
  }
 ],
 "metadata": {},
 "nbformat": 4,
 "nbformat_minor": 5
}
