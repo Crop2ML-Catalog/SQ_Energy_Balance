{
 "cells": [
  {
   "cell_type": "markdown",
   "id": "61850b0c",
   "metadata": {},
   "source": [
    "# Automatic generation of Notebook using PyCropML\n",
    "    This notebook implements a crop model."
   ]
  },
  {
   "cell_type": "markdown",
   "id": "a0665d19",
   "metadata": {},
   "source": [
    "### Model Netradiationequivalentevaporation"
   ]
  },
  {
   "cell_type": "code",
   "execution_count": null,
   "id": "dae752ee",
   "metadata": {},
   "outputs": [],
   "source": [
    "import numpy\n",
    "from datetime import datetime\n",
    "from array import array\n",
    "import sys\n",
    "sys.path.append(\"..\\..\\src\\py\\SQ_Energy_Balance\")\n",
    "from netradiationequivalentevaporation import model_netradiationequivalentevaporation\n"
   ]
  },
  {
   "cell_type": "code",
   "execution_count": null,
   "id": "ea306cbd",
   "metadata": {},
   "outputs": [],
   "source": [
    "netRadiation = 1.566\n",
    "lambdaV = 2.454\n",
    "params= model_netradiationequivalentevaporation(lambdaV, netRadiation)\n",
    "\n",
    "netRadiationEquivalentEvaporation_estimated = round(params, 3)\n",
    "netRadiationEquivalentEvaporation_computed = 638.142\n",
    "assert (netRadiationEquivalentEvaporation_estimated == netRadiationEquivalentEvaporation_computed)"
   ]
  }
 ],
 "metadata": {},
 "nbformat": 4,
 "nbformat_minor": 5
}
