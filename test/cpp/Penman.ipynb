{
 "cells": [
  {
   "cell_type": "markdown",
   "id": "40640b88",
   "metadata": {},
   "source": [
    "# Automatic generation of Notebook using PyCropML\n",
    "    This notebook implements a crop model."
   ]
  },
  {
   "cell_type": "markdown",
   "id": "cb5f879f",
   "metadata": {},
   "source": [
    "### Model Penman"
   ]
  },
  {
   "cell_type": "code",
   "execution_count": null,
   "id": "4ae0a0cc",
   "metadata": {},
   "outputs": [],
   "source": [
    "#include \"..\\..\\src\\cpp\\SQ_Energy_Balance\\EnergybalanceState.cpp\"\n",
    "#include \"..\\..\\src\\cpp\\SQ_Energy_Balance\\EnergybalanceRate.cpp\"\n",
    "#include \"..\\..\\src\\cpp\\SQ_Energy_Balance\\EnergybalanceAuxiliary.cpp\"\n",
    "#include \"..\\..\\src\\cpp\\SQ_Energy_Balance\\EnergybalanceExogenous.cpp\"\n",
    "#include \"..\\..\\src\\cpp\\SQ_Energy_Balance\\Penman.cpp\"\n"
   ]
  },
  {
   "cell_type": "code",
   "execution_count": null,
   "id": "bb253e8a",
   "metadata": {},
   "outputs": [],
   "source": [
    "class Test\n",
    "{\n",
    "    private:\n",
    "        EnergybalanceState s;\n",
    "        EnergybalanceState s1;\n",
    "        EnergybalanceRate r;\n",
    "        EnergybalanceAuxiliary a;\n",
    "        EnergybalanceExogenous ex;\n",
    "        Penman mod;\n",
    "    public:\n",
    "        //first\n",
    "\n",
    "        // test1\n",
    "        void test1()\n",
    "        {\n",
    "            this->mod.setAlpha(1.5);\n",
    "            this->mod.setlambdaV(2.454);\n",
    "            this->r.setevapoTranspirationPriestlyTaylor(449.367);\n",
    "            this->a.sethslope(0.584);\n",
    "            this->a.setVPDair(2.19);\n",
    "            this->mod.setpsychrometricConstant(0.66);\n",
    "            this->mod.setrhoDensityAir(1.225);\n",
    "            this->mod.setspecificHeatCapacityAir(0.00101);\n",
    "            this->s.setconductance(598.685);\n",
    "            this->mod.Calculate_Model(s,s1, r, a, ex);\n",
    "            //evapoTranspirationPenman: 830.958;\n",
    "            cout << \"evapoTranspirationPenman estimated :\\n\";\n",
    "            cout << \"\\t\" << this->r.getevapoTranspirationPenman() << \"\\n\";\n",
    "        };\n",
    "}\n"
   ]
  },
  {
   "cell_type": "code",
   "execution_count": null,
   "id": "1f3d02c3",
   "metadata": {},
   "outputs": [],
   "source": [
    "Test t;\n",
    "t.test1();\n"
   ]
  }
 ],
 "metadata": {},
 "nbformat": 4,
 "nbformat_minor": 5
}
