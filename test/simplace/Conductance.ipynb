{
 "cells": [
  {
   "cell_type": "markdown",
   "id": "657362a7",
   "metadata": {},
   "source": [
    "# Automatic generation of Notebook using PyCropML\n",
    "    This notebook implements a crop model."
   ]
  },
  {
   "cell_type": "markdown",
   "id": "f4228d4a",
   "metadata": {},
   "source": [
    "### Model Conductance"
   ]
  }
 ],
 "metadata": {},
 "nbformat": 4,
 "nbformat_minor": 5
}
