{
 "cells": [
  {
   "cell_type": "markdown",
   "id": "6a66bf3d",
   "metadata": {},
   "source": [
    "# Automatic generation of Notebook using PyCropML\n",
    "    This notebook implements a crop model."
   ]
  },
  {
   "cell_type": "markdown",
   "id": "9d8e12e9",
   "metadata": {},
   "source": [
    "### Model Ptsoil"
   ]
  },
  {
   "cell_type": "code",
   "execution_count": null,
   "id": "5c153cc4",
   "metadata": {},
   "outputs": [],
   "source": [
    "import numpy\n",
    "from datetime import datetime\n",
    "import sys\n",
    "sys.path.append(\"..\\..\\src\\py\\SQ_Energy_Balance\")\n",
    "from Ptsoil import model_ptsoil\n"
   ]
  },
  {
   "cell_type": "code",
   "execution_count": null,
   "id": "a9803281",
   "metadata": {},
   "outputs": [],
   "source": [
    "tau = 0.9983\n",
    "evapoTranspirationPriestlyTaylor = 449.367\n",
    "Alpha = 1.5\n",
    "tauAlpha = 0.3\n",
    "params= model_ptsoil(evapoTranspirationPriestlyTaylor, Alpha, tau, tauAlpha)\n",
    "\n",
    "energyLimitedEvaporation_estimated = round(params, 3)\n",
    "energyLimitedEvaporation_computed = 448.240\n",
    "assert (energyLimitedEvaporation_estimated == energyLimitedEvaporation_computed)"
   ]
  }
 ],
 "metadata": {},
 "nbformat": 4,
 "nbformat_minor": 5
}
