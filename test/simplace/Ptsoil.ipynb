{
 "cells": [
  {
   "cell_type": "markdown",
   "id": "c44e260a",
   "metadata": {},
   "source": [
    "# Automatic generation of Notebook using PyCropML\n",
    "    This notebook implements a crop model."
   ]
  },
  {
   "cell_type": "markdown",
   "id": "ff1a0564",
   "metadata": {},
   "source": [
    "### Model Ptsoil"
   ]
  }
 ],
 "metadata": {},
 "nbformat": 4,
 "nbformat_minor": 5
}
