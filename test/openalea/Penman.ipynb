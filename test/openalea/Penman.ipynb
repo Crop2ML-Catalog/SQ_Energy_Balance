{
 "cells": [
  {
   "cell_type": "markdown",
   "id": "082d5885",
   "metadata": {},
   "source": [
    "# Automatic generation of Notebook using PyCropML\n",
    "    This notebook implements a crop model."
   ]
  },
  {
   "cell_type": "markdown",
   "id": "e7b25ce6",
   "metadata": {},
   "source": [
    "### Model Penman"
   ]
  }
 ],
 "metadata": {},
 "nbformat": 4,
 "nbformat_minor": 5
}
