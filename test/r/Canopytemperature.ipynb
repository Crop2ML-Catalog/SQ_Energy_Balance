{
 "cells": [
  {
   "cell_type": "markdown",
   "id": "aa128e0b",
   "metadata": {},
   "source": [
    "# Automatic generation of Notebook using PyCropML\n",
    "    This notebook implements a crop model."
   ]
  },
  {
   "cell_type": "markdown",
   "id": "0196fd4e",
   "metadata": {},
   "source": [
    "### Model Canopytemperature"
   ]
  },
  {
   "cell_type": "code",
   "execution_count": null,
   "id": "00e4458c",
   "metadata": {},
   "outputs": [],
   "source": [
    "source(\"../../src/r/SQ_Energy_Balance/Canopytemperature.r\")\n",
    "library(assertthat)\n"
   ]
  },
  {
   "cell_type": "code",
   "execution_count": null,
   "id": "636fd1d1",
   "metadata": {},
   "outputs": [],
   "source": [
    "\n",
    "\n",
    "test_test1<-function(){\n",
    "    params= model_canopytemperature(\n",
    "        rhoDensityAir = 1.225,\n",
    "        minTair = 0.7,\n",
    "        maxTair = 7.2\n",
    "        )\n",
    "    minCanopyTemperature_estimated = params$minCanopyTemperature\n",
    "    minCanopyTemperature_computed = 2.184\n",
    "    assert_that(all.equal(minCanopyTemperature_estimated, minCanopyTemperature_computed, scale=1, tol=0.3)==TRUE)\n",
    "    maxCanopyTemperature_estimated = params$maxCanopyTemperature\n",
    "    maxCanopyTemperature_computed = 8.684\n",
    "    assert_that(all.equal(maxCanopyTemperature_estimated, maxCanopyTemperature_computed, scale=1, tol=0.3)==TRUE)\n",
    "}\n",
    "test_test1()"
   ]
  }
 ],
 "metadata": {},
 "nbformat": 4,
 "nbformat_minor": 5
}
