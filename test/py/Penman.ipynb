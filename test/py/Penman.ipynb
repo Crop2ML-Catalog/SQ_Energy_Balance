{
 "cells": [
  {
   "cell_type": "markdown",
   "id": "cf46d0c8",
   "metadata": {},
   "source": [
    "# Automatic generation of Notebook using PyCropML\n",
    "    This notebook implements a crop model."
   ]
  },
  {
   "cell_type": "markdown",
   "id": "173f084d",
   "metadata": {},
   "source": [
    "### Model Penman"
   ]
  },
  {
   "cell_type": "code",
   "execution_count": null,
   "id": "597fe646",
   "metadata": {},
   "outputs": [],
   "source": [
    "import numpy\n",
    "from datetime import datetime\n",
    "import sys\n",
    "sys.path.append(\"..\\..\\src\\py\\SQ_Energy_Balance\")\n",
    "from Penman import model_penman\n"
   ]
  },
  {
   "cell_type": "code",
   "execution_count": null,
   "id": "d8107344",
   "metadata": {},
   "outputs": [],
   "source": [
    "params= model_penman(\n",
    "    Alpha = 1.5,\n",
    "    lambdaV = 2.454,\n",
    "    evapoTranspirationPriestlyTaylor = 449.367,\n",
    "    hslope = 0.584,\n",
    "    VPDair = 2.19,\n",
    "     )\n",
    "evapoTranspirationPenman_estimated = round(params, 3)\n",
    "evapoTranspirationPenman_computed = 830.958\n",
    "assert (evapoTranspirationPenman_estimated == evapoTranspirationPenman_computed)"
   ]
  }
 ],
 "metadata": {},
 "nbformat": 4,
 "nbformat_minor": 5
}
