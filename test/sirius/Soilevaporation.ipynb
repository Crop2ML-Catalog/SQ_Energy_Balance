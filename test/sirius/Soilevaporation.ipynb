{
 "cells": [
  {
   "cell_type": "markdown",
   "id": "644ce8a8",
   "metadata": {},
   "source": [
    "# Automatic generation of Notebook using PyCropML\n",
    "    This notebook implements a crop model."
   ]
  },
  {
   "cell_type": "markdown",
   "id": "eb7ca24b",
   "metadata": {},
   "source": [
    "### Model Soilevaporation"
   ]
  }
 ],
 "metadata": {},
 "nbformat": 4,
 "nbformat_minor": 5
}
