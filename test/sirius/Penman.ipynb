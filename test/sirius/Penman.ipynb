{
 "cells": [
  {
   "cell_type": "markdown",
   "id": "73f2e862",
   "metadata": {},
   "source": [
    "# Automatic generation of Notebook using PyCropML\n",
    "    This notebook implements a crop model."
   ]
  },
  {
   "cell_type": "markdown",
   "id": "7579a63e",
   "metadata": {},
   "source": [
    "### Model Penman"
   ]
  }
 ],
 "metadata": {},
 "nbformat": 4,
 "nbformat_minor": 5
}
