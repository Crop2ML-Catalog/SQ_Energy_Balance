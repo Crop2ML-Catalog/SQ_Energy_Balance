{
 "cells": [
  {
   "cell_type": "markdown",
   "id": "91b2cd83",
   "metadata": {},
   "source": [
    "# Automatic generation of Notebook using PyCropML\n",
    "    This notebook implements a crop model."
   ]
  },
  {
   "cell_type": "markdown",
   "id": "3b1f4550",
   "metadata": {},
   "source": [
    "### Model Potentialtranspiration"
   ]
  },
  {
   "cell_type": "code",
   "execution_count": null,
   "id": "ef75ef00",
   "metadata": {},
   "outputs": [],
   "source": [
    "import numpy\n",
    "from datetime import datetime\n",
    "import sys\n",
    "sys.path.append(\"..\\..\\src\\py\\SQ_Energy_Balance\")\n",
    "from Potentialtranspiration import model_potentialtranspiration\n"
   ]
  },
  {
   "cell_type": "code",
   "execution_count": null,
   "id": "164a8165",
   "metadata": {},
   "outputs": [],
   "source": [
    "params= model_potentialtranspiration(\n",
    "    tau = 0.9983,\n",
    "    evapoTranspiration = 830.958,\n",
    "     )\n",
    "potentialTranspiration_estimated = round(params, 3)\n",
    "potentialTranspiration_computed = 1.413\n",
    "assert (potentialTranspiration_estimated == potentialTranspiration_computed)"
   ]
  }
 ],
 "metadata": {},
 "nbformat": 4,
 "nbformat_minor": 5
}
