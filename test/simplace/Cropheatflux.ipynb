{
 "cells": [
  {
   "cell_type": "markdown",
   "id": "fef1eb9b",
   "metadata": {},
   "source": [
    "# Automatic generation of Notebook using PyCropML\n",
    "    This notebook implements a crop model."
   ]
  },
  {
   "cell_type": "markdown",
   "id": "0e87c688",
   "metadata": {},
   "source": [
    "### Model Cropheatflux"
   ]
  }
 ],
 "metadata": {},
 "nbformat": 4,
 "nbformat_minor": 5
}
