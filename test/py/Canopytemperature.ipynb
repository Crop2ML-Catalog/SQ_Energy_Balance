{
 "cells": [
  {
   "cell_type": "markdown",
   "id": "8f29a527",
   "metadata": {},
   "source": [
    "# Automatic generation of Notebook using PyCropML\n",
    "    This notebook implements a crop model."
   ]
  },
  {
   "cell_type": "markdown",
   "id": "c4b8a267",
   "metadata": {},
   "source": [
    "### Model Canopytemperature"
   ]
  },
  {
   "cell_type": "code",
   "execution_count": null,
   "id": "502e6318",
   "metadata": {},
   "outputs": [],
   "source": [
    "import numpy\n",
    "from datetime import datetime\n",
    "import sys\n",
    "sys.path.append(\"..\\..\\src\\py\\SQ_Energy_Balance\")\n",
    "from Canopytemperature import model_canopytemperature\n"
   ]
  },
  {
   "cell_type": "code",
   "execution_count": null,
   "id": "4f3fb1ce",
   "metadata": {},
   "outputs": [],
   "source": [
    "params= model_canopytemperature(\n",
    "    rhoDensityAir = 1.225,\n",
    "    minTair = 0.7,\n",
    "    maxTair = 7.2,\n",
    "     )\n",
    "minCanopyTemperature_estimated = round(params[0], 3)\n",
    "minCanopyTemperature_computed = 2.184\n",
    "assert (minCanopyTemperature_estimated == minCanopyTemperature_computed)\n",
    "maxCanopyTemperature_estimated = round(params[1], 3)\n",
    "maxCanopyTemperature_computed = 8.684\n",
    "assert (maxCanopyTemperature_estimated == maxCanopyTemperature_computed)"
   ]
  }
 ],
 "metadata": {},
 "nbformat": 4,
 "nbformat_minor": 5
}
