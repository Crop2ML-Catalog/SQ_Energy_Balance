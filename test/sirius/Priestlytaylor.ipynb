{
 "cells": [
  {
   "cell_type": "markdown",
   "id": "2a449650",
   "metadata": {},
   "source": [
    "# Automatic generation of Notebook using PyCropML\n",
    "    This notebook implements a crop model."
   ]
  },
  {
   "cell_type": "markdown",
   "id": "fca54c6f",
   "metadata": {},
   "source": [
    "### Model Priestlytaylor"
   ]
  }
 ],
 "metadata": {},
 "nbformat": 4,
 "nbformat_minor": 5
}
