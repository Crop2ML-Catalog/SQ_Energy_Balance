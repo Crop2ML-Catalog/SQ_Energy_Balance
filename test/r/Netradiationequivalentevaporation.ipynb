{
 "cells": [
  {
   "cell_type": "markdown",
   "id": "5d661051",
   "metadata": {},
   "source": [
    "# Automatic generation of Notebook using PyCropML\n",
    "    This notebook implements a crop model."
   ]
  },
  {
   "cell_type": "markdown",
   "id": "97340b5c",
   "metadata": {},
   "source": [
    "### Model Netradiationequivalentevaporation"
   ]
  },
  {
   "cell_type": "code",
   "execution_count": null,
   "id": "066c8591",
   "metadata": {},
   "outputs": [],
   "source": [
    "source(\"../../src/r/SQ_Energy_Balance/Netradiationequivalentevaporation.r\")\n",
    "library(assertthat)\n"
   ]
  },
  {
   "cell_type": "code",
   "execution_count": null,
   "id": "62b491c7",
   "metadata": {},
   "outputs": [],
   "source": [
    "\n",
    "\n",
    "test_test1<-function(){\n",
    "    params= model_netradiationequivalentevaporation(\n",
    "        netRadiation = 1.566\n",
    "        )\n",
    "    netRadiationEquivalentEvaporation_estimated = params$netRadiationEquivalentEvaporation\n",
    "    netRadiationEquivalentEvaporation_computed = 638.142\n",
    "    assert_that(all.equal(netRadiationEquivalentEvaporation_estimated, netRadiationEquivalentEvaporation_computed, scale=1, tol=0.3)==TRUE)\n",
    "}\n",
    "test_test1()"
   ]
  }
 ],
 "metadata": {},
 "nbformat": 4,
 "nbformat_minor": 5
}
