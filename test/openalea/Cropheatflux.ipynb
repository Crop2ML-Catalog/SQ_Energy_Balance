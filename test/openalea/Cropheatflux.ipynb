{
 "cells": [
  {
   "cell_type": "markdown",
   "id": "f3504e52",
   "metadata": {},
   "source": [
    "# Automatic generation of Notebook using PyCropML\n",
    "    This notebook implements a crop model."
   ]
  },
  {
   "cell_type": "markdown",
   "id": "e09e3ff6",
   "metadata": {},
   "source": [
    "### Model Cropheatflux"
   ]
  }
 ],
 "metadata": {},
 "nbformat": 4,
 "nbformat_minor": 5
}
