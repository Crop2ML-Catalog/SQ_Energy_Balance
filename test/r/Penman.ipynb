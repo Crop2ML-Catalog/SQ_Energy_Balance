{
 "cells": [
  {
   "cell_type": "markdown",
   "id": "907590ab",
   "metadata": {},
   "source": [
    "# Automatic generation of Notebook using PyCropML\n",
    "    This notebook implements a crop model."
   ]
  },
  {
   "cell_type": "markdown",
   "id": "7a3a2495",
   "metadata": {},
   "source": [
    "### Model Penman"
   ]
  },
  {
   "cell_type": "code",
   "execution_count": null,
   "id": "7082cc5a",
   "metadata": {},
   "outputs": [],
   "source": [
    "source(\"../../src/r/SQ_Energy_Balance/Penman.r\")\n",
    "library(assertthat)\n"
   ]
  },
  {
   "cell_type": "code",
   "execution_count": null,
   "id": "1d2893dc",
   "metadata": {},
   "outputs": [],
   "source": [
    "\n",
    "\n",
    "test_test1<-function(){\n",
    "    params= model_penman(\n",
    "        Alpha = 1.5,\n",
    "        lambdaV = 2.454,\n",
    "        evapoTranspirationPriestlyTaylor = 449.367,\n",
    "        hslope = 0.584,\n",
    "        VPDair = 2.19\n",
    "        )\n",
    "    evapoTranspirationPenman_estimated = params$evapoTranspirationPenman\n",
    "    evapoTranspirationPenman_computed = 830.958\n",
    "    assert_that(all.equal(evapoTranspirationPenman_estimated, evapoTranspirationPenman_computed, scale=1, tol=0.3)==TRUE)\n",
    "}\n",
    "test_test1()"
   ]
  }
 ],
 "metadata": {},
 "nbformat": 4,
 "nbformat_minor": 5
}
