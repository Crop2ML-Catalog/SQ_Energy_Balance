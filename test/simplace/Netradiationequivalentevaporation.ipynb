{
 "cells": [
  {
   "cell_type": "markdown",
   "id": "35a6a3e7",
   "metadata": {},
   "source": [
    "# Automatic generation of Notebook using PyCropML\n",
    "    This notebook implements a crop model."
   ]
  },
  {
   "cell_type": "markdown",
   "id": "c4fc170a",
   "metadata": {},
   "source": [
    "### Model Netradiationequivalentevaporation"
   ]
  }
 ],
 "metadata": {},
 "nbformat": 4,
 "nbformat_minor": 5
}
