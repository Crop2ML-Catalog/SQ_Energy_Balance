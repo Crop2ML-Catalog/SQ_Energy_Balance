{
 "cells": [
  {
   "cell_type": "markdown",
   "id": "d65687f0",
   "metadata": {},
   "source": [
    "# Automatic generation of Notebook using PyCropML\n",
    "    This notebook implements a crop model."
   ]
  },
  {
   "cell_type": "markdown",
   "id": "c692acc9",
   "metadata": {},
   "source": [
    "### Model Potentialtranspiration"
   ]
  },
  {
   "cell_type": "code",
   "execution_count": null,
   "id": "a4d7764d",
   "metadata": {},
   "outputs": [],
   "source": [
    "source(\"../../src/r/SQ_Energy_Balance/Potentialtranspiration.r\")\n",
    "library(assertthat)\n"
   ]
  },
  {
   "cell_type": "code",
   "execution_count": null,
   "id": "8e3cdc7b",
   "metadata": {},
   "outputs": [],
   "source": [
    "\n",
    "\n",
    "test_test1<-function(){\n",
    "    params= model_potentialtranspiration(\n",
    "        tau = 0.9983,\n",
    "        evapoTranspiration = 830.958\n",
    "        )\n",
    "    potentialTranspiration_estimated = params$potentialTranspiration\n",
    "    potentialTranspiration_computed = 1.413\n",
    "    assert_that(all.equal(potentialTranspiration_estimated, potentialTranspiration_computed, scale=1, tol=0.3)==TRUE)\n",
    "}\n",
    "test_test1()"
   ]
  }
 ],
 "metadata": {},
 "nbformat": 4,
 "nbformat_minor": 5
}
