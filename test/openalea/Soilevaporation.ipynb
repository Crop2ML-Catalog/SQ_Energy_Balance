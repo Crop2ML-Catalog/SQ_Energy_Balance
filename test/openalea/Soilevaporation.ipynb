{
 "cells": [
  {
   "cell_type": "markdown",
   "id": "d8316dd6",
   "metadata": {},
   "source": [
    "# Automatic generation of Notebook using PyCropML\n",
    "    This notebook implements a crop model."
   ]
  },
  {
   "cell_type": "markdown",
   "id": "123ff702",
   "metadata": {},
   "source": [
    "### Model Soilevaporation"
   ]
  }
 ],
 "metadata": {},
 "nbformat": 4,
 "nbformat_minor": 5
}
