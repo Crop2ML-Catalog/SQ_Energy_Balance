{
 "cells": [
  {
   "cell_type": "markdown",
   "id": "c2c03fb2",
   "metadata": {},
   "source": [
    "# Automatic generation of Notebook using PyCropML\n",
    "    This notebook implements a crop model."
   ]
  },
  {
   "cell_type": "markdown",
   "id": "73ddf900",
   "metadata": {},
   "source": [
    "### Model Canopytemperature"
   ]
  },
  {
   "cell_type": "code",
   "execution_count": null,
   "id": "58847e5c",
   "metadata": {},
   "outputs": [],
   "source": [
    "import numpy\n",
    "from datetime import datetime\n",
    "import sys\n",
    "sys.path.append(\"..\\..\\src\\py\\SQ_Energy_Balance\")\n",
    "from Canopytemperature import model_canopytemperature\n"
   ]
  },
  {
   "cell_type": "code",
   "execution_count": null,
   "id": "91b08fab",
   "metadata": {},
   "outputs": [],
   "source": [
    "rhoDensityAir = 1.225\n",
    "minTair = 0.7\n",
    "maxTair = 7.2\n",
    "cropHeatFlux = 447.912\n",
    "conductance = 598.685\n",
    "lambdaV = 2.454\n",
    "specificHeatCapacityAir = 0.00101\n",
    "params= model_canopytemperature(minTair, maxTair, cropHeatFlux, conductance, lambdaV, rhoDensityAir, specificHeatCapacityAir)\n",
    "\n",
    "minCanopyTemperature_estimated = round(params[0], 3)\n",
    "minCanopyTemperature_computed = 2.184\n",
    "assert (minCanopyTemperature_estimated == minCanopyTemperature_computed)\n",
    "maxCanopyTemperature_estimated = round(params[1], 3)\n",
    "maxCanopyTemperature_computed = 8.684\n",
    "assert (maxCanopyTemperature_estimated == maxCanopyTemperature_computed)"
   ]
  }
 ],
 "metadata": {},
 "nbformat": 4,
 "nbformat_minor": 5
}
