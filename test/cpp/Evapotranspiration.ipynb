{
 "cells": [
  {
   "cell_type": "markdown",
   "id": "e1410897",
   "metadata": {},
   "source": [
    "# Automatic generation of Notebook using PyCropML\n",
    "    This notebook implements a crop model."
   ]
  },
  {
   "cell_type": "markdown",
   "id": "9a6a8aa4",
   "metadata": {},
   "source": [
    "### Model Evapotranspiration"
   ]
  },
  {
   "cell_type": "code",
   "execution_count": null,
   "id": "1d6b4758",
   "metadata": {},
   "outputs": [],
   "source": [
    "#include \"..\\..\\src\\cpp\\SQ_Energy_Balance\\EnergybalanceState.cpp\"\n",
    "#include \"..\\..\\src\\cpp\\SQ_Energy_Balance\\EnergybalanceRate.cpp\"\n",
    "#include \"..\\..\\src\\cpp\\SQ_Energy_Balance\\EnergybalanceAuxiliary.cpp\"\n",
    "#include \"..\\..\\src\\cpp\\SQ_Energy_Balance\\EnergybalanceExogenous.cpp\"\n",
    "#include \"..\\..\\src\\cpp\\SQ_Energy_Balance\\Evapotranspiration.cpp\"\n"
   ]
  },
  {
   "cell_type": "code",
   "execution_count": null,
   "id": "35ab124c",
   "metadata": {},
   "outputs": [],
   "source": [
    "class Test\n",
    "{\n",
    "    private:\n",
    "        EnergybalanceState s;\n",
    "        EnergybalanceState s1;\n",
    "        EnergybalanceRate r;\n",
    "        EnergybalanceAuxiliary a;\n",
    "        EnergybalanceExogenous ex;\n",
    "        Evapotranspiration mod;\n",
    "    public:\n",
    "        //first\n",
    "\n",
    "        // test1\n",
    "        void test1()\n",
    "        {\n",
    "            this->mod.setisWindVpDefined(1);\n",
    "            this->r.setevapoTranspirationPriestlyTaylor(449.367);\n",
    "            this->r.setevapoTranspirationPenman(830.957);\n",
    "            this->mod.Calculate_Model(s,s1, r, a, ex);\n",
    "            //evapoTranspiration: 830.957;\n",
    "            cout << \"evapoTranspiration estimated :\\n\";\n",
    "            cout << \"\\t\" << this->r.getevapoTranspiration() << \"\\n\";\n",
    "        };\n",
    "}\n"
   ]
  },
  {
   "cell_type": "code",
   "execution_count": null,
   "id": "1fd2b483",
   "metadata": {},
   "outputs": [],
   "source": [
    "Test t;\n",
    "t.test1();\n"
   ]
  }
 ],
 "metadata": {},
 "nbformat": 4,
 "nbformat_minor": 5
}
