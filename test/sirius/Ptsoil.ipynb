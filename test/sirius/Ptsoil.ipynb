{
 "cells": [
  {
   "cell_type": "markdown",
   "id": "2c0a3933",
   "metadata": {},
   "source": [
    "# Automatic generation of Notebook using PyCropML\n",
    "    This notebook implements a crop model."
   ]
  },
  {
   "cell_type": "markdown",
   "id": "00864348",
   "metadata": {},
   "source": [
    "### Model Ptsoil"
   ]
  }
 ],
 "metadata": {},
 "nbformat": 4,
 "nbformat_minor": 5
}
