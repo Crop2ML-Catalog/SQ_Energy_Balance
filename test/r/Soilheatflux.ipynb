{
 "cells": [
  {
   "cell_type": "markdown",
   "id": "1f70951f",
   "metadata": {},
   "source": [
    "# Automatic generation of Notebook using PyCropML\n",
    "    This notebook implements a crop model."
   ]
  },
  {
   "cell_type": "markdown",
   "id": "fc36afaa",
   "metadata": {},
   "source": [
    "### Model Soilheatflux"
   ]
  },
  {
   "cell_type": "code",
   "execution_count": null,
   "id": "06f0f99b",
   "metadata": {},
   "outputs": [],
   "source": [
    "source(\"../../src/r/SQ_Energy_Balance/Soilheatflux.r\")\n",
    "library(assertthat)\n"
   ]
  },
  {
   "cell_type": "code",
   "execution_count": null,
   "id": "58232322",
   "metadata": {},
   "outputs": [],
   "source": [
    "\n",
    "\n",
    "test_test1<-function(){\n",
    "    params= model_soilheatflux(\n",
    "        tau = 0.9983,\n",
    "        netRadiationEquivalentEvaporation = 638.142,\n",
    "        soilEvaporation = 448.240\n",
    "        )\n",
    "    soilHeatFlux_estimated = params$soilHeatFlux\n",
    "    soilHeatFlux_computed = 188.817\n",
    "    assert_that(all.equal(soilHeatFlux_estimated, soilHeatFlux_computed, scale=1, tol=0.3)==TRUE)\n",
    "}\n",
    "test_test1()"
   ]
  }
 ],
 "metadata": {},
 "nbformat": 4,
 "nbformat_minor": 5
}
