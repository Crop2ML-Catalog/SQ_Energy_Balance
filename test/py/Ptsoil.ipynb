{
 "cells": [
  {
   "cell_type": "markdown",
   "id": "3fdbcd36",
   "metadata": {},
   "source": [
    "# Automatic generation of Notebook using PyCropML\n",
    "    This notebook implements a crop model."
   ]
  },
  {
   "cell_type": "markdown",
   "id": "91a80853",
   "metadata": {},
   "source": [
    "### Model Ptsoil"
   ]
  },
  {
   "cell_type": "code",
   "execution_count": null,
   "id": "1ffac97a",
   "metadata": {},
   "outputs": [],
   "source": [
    "import numpy\n",
    "from datetime import datetime\n",
    "import sys\n",
    "sys.path.append(\"..\\..\\src\\py\\SQ_Energy_Balance\")\n",
    "from Ptsoil import model_ptsoil\n"
   ]
  },
  {
   "cell_type": "code",
   "execution_count": null,
   "id": "4e961965",
   "metadata": {},
   "outputs": [],
   "source": [
    "params= model_ptsoil(\n",
    "    tau = 0.9983,\n",
    "    evapoTranspirationPriestlyTaylor = 449.367,\n",
    "     )\n",
    "energyLimitedEvaporation_estimated = round(params, 3)\n",
    "energyLimitedEvaporation_computed = 448.240\n",
    "assert (energyLimitedEvaporation_estimated == energyLimitedEvaporation_computed)"
   ]
  }
 ],
 "metadata": {},
 "nbformat": 4,
 "nbformat_minor": 5
}
