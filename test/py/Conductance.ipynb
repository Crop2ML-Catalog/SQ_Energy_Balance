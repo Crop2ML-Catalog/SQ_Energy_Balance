{
 "cells": [
  {
   "cell_type": "markdown",
   "id": "d5119470",
   "metadata": {},
   "source": [
    "# Automatic generation of Notebook using PyCropML\n",
    "    This notebook implements a crop model."
   ]
  },
  {
   "cell_type": "markdown",
   "id": "029e7900",
   "metadata": {},
   "source": [
    "### Model Conductance"
   ]
  },
  {
   "cell_type": "code",
   "execution_count": null,
   "id": "5d284be4",
   "metadata": {},
   "outputs": [],
   "source": [
    "import numpy\n",
    "from datetime import datetime\n",
    "import sys\n",
    "sys.path.append(\"..\\..\\src\\py\\SQ_Energy_Balance\")\n",
    "from Conductance import model_conductance\n"
   ]
  },
  {
   "cell_type": "code",
   "execution_count": null,
   "id": "6e00102e",
   "metadata": {},
   "outputs": [],
   "source": [
    "d = 0.67\n",
    "zh = 0.013\n",
    "zm = 0.13\n",
    "wind = 124000\n",
    "plantHeight = 0\n",
    "vonKarman = 0.42\n",
    "heightWeatherMeasurements = 2\n",
    "params= model_conductance(vonKarman, heightWeatherMeasurements, zm, zh, d, plantHeight, wind)\n",
    "\n",
    "conductance_estimated = round(params, 3)\n",
    "conductance_computed = 598.685\n",
    "assert (conductance_estimated == conductance_computed)"
   ]
  }
 ],
 "metadata": {},
 "nbformat": 4,
 "nbformat_minor": 5
}
