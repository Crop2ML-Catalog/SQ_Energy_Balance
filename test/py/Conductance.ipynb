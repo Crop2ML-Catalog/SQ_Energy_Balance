{
 "cells": [
  {
   "cell_type": "markdown",
   "id": "13f940d3",
   "metadata": {},
   "source": [
    "# Automatic generation of Notebook using PyCropML\n",
    "    This notebook implements a crop model."
   ]
  },
  {
   "cell_type": "markdown",
   "id": "97e044b5",
   "metadata": {},
   "source": [
    "### Model Conductance"
   ]
  },
  {
   "cell_type": "code",
   "execution_count": null,
   "id": "c3f29dd4",
   "metadata": {},
   "outputs": [],
   "source": [
    "import numpy\n",
    "from datetime import datetime\n",
    "from array import array\n",
    "import sys\n",
    "sys.path.append(\"..\\..\\src\\py\\SQ_Energy_Balance\")\n",
    "from conductance import model_conductance\n"
   ]
  },
  {
   "cell_type": "code",
   "execution_count": null,
   "id": "e7561d72",
   "metadata": {},
   "outputs": [],
   "source": [
    "d = 0.67\n",
    "zh = 0.013\n",
    "zm = 0.13\n",
    "wind = 124000\n",
    "plantHeight = 0\n",
    "vonKarman = 0.42\n",
    "heightWeatherMeasurements = 2\n",
    "params= model_conductance(vonKarman, heightWeatherMeasurements, zm, zh, d, plantHeight, wind)\n",
    "\n",
    "conductance_estimated = round(params, 3)\n",
    "conductance_computed = 598.685\n",
    "assert (conductance_estimated == conductance_computed)"
   ]
  }
 ],
 "metadata": {},
 "nbformat": 4,
 "nbformat_minor": 5
}
