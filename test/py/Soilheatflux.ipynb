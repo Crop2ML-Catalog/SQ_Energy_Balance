{
 "cells": [
  {
   "cell_type": "markdown",
   "id": "7d48836e",
   "metadata": {},
   "source": [
    "# Automatic generation of Notebook using PyCropML\n",
    "    This notebook implements a crop model."
   ]
  },
  {
   "cell_type": "markdown",
   "id": "33f2e457",
   "metadata": {},
   "source": [
    "### Model Soilheatflux"
   ]
  },
  {
   "cell_type": "code",
   "execution_count": null,
   "id": "60f9b919",
   "metadata": {},
   "outputs": [],
   "source": [
    "import numpy\n",
    "from datetime import datetime\n",
    "from array import array\n",
    "import sys\n",
    "sys.path.append(\"..\\..\\src\\py\\SQ_Energy_Balance\")\n",
    "from soilheatflux import model_soilheatflux\n"
   ]
  },
  {
   "cell_type": "code",
   "execution_count": null,
   "id": "3c4f416c",
   "metadata": {},
   "outputs": [],
   "source": [
    "tau = 0.9983\n",
    "netRadiationEquivalentEvaporation = 638.142\n",
    "soilEvaporation = 448.240\n",
    "params= model_soilheatflux(netRadiationEquivalentEvaporation, tau, soilEvaporation)\n",
    "\n",
    "soilHeatFlux_estimated = round(params, 3)\n",
    "soilHeatFlux_computed = 188.817\n",
    "assert (soilHeatFlux_estimated == soilHeatFlux_computed)"
   ]
  }
 ],
 "metadata": {},
 "nbformat": 4,
 "nbformat_minor": 5
}
